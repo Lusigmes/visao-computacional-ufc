{
 "cells": [
  {
   "cell_type": "code",
   "execution_count": 15,
   "metadata": {},
   "outputs": [],
   "source": [
    "import cv2\n",
    "import numpy as np\n",
    "import matplotlib.pyplot as plt"
   ]
  },
  {
   "cell_type": "code",
   "execution_count": 16,
   "metadata": {},
   "outputs": [],
   "source": [
    "img = cv2.imread(\"cat.jpg\")\n",
    "img = cv2.cvtColor(img, cv2.COLOR_BGR2RGB)\n",
    "img = img[::2, ::2]"
   ]
  },
  {
   "cell_type": "code",
   "execution_count": null,
   "metadata": {},
   "outputs": [],
   "source": [
    "#  cálculo da média\n",
    "# soma o valor dos pixels ao redor do pixel selecionado, soma e atualiza a media\n",
    "\n",
    "# blur(imagem, (janela de, suavização))\n",
    "suavizarMedia = np.hstack([\n",
    "    np.vstack([img,                 cv2.blur(img, (3,3))]),\n",
    "    np.vstack([cv2.blur(img, (5,5)), cv2.blur(img, (7,7))]),\n",
    "    np.vstack([cv2.blur(img, (9,9)), cv2.blur(img, (11,11))]),\n",
    "])\n",
    "# Mostrar as imagens usando matplotlib\n",
    "plt.figure(figsize=(12, 8))\n",
    "plt.imshow(suavizarMedia)\n",
    "plt.title('Imagens Suavizadas por Média')\n",
    "plt.axis('off')  # Não mostrar os eixos\n",
    "plt.show()"
   ]
  },
  {
   "cell_type": "code",
   "execution_count": null,
   "metadata": {},
   "outputs": [],
   "source": [
    "# cálculo da mediana\n",
    "# despreza valores muito altos e muito baixos que podem distorcer o resultado\n",
    "# valor que fica no meio do intervalo\n",
    "# medianBlur(imagem, tamanho da caixa/janela)\n",
    "suavizarMediana = np.hstack([\n",
    "    np.vstack([img,                   cv2.medianBlur(img, 3)]),\n",
    "    np.vstack([cv2.medianBlur(img, 5), cv2.medianBlur(img, 7)]),\n",
    "    np.vstack([cv2.medianBlur(img, 9), cv2.medianBlur(img, 11)]),\n",
    "])\n",
    "\n",
    "\n",
    "# Mostrar as imagens usando matplotlib\n",
    "plt.figure(figsize=(12, 8))\n",
    "plt.imshow(suavizarMediana)\n",
    "plt.title('Imagens suavizadas por mediana')\n",
    "plt.axis('off')  # Não mostrar os eixos\n",
    "plt.show()"
   ]
  },
  {
   "cell_type": "code",
   "execution_count": null,
   "metadata": {},
   "outputs": [],
   "source": [
    "# filtro gaussiana\n",
    "# gera menos borrão, produz um efeito mais natural e reduz o ruído na imagem\n",
    "# GaussianBlur(imagem, (altura, largura) , desvios padrão no eixo X eY)\n",
    "suavizarGaussiana = np.hstack([\n",
    "    np.vstack([img,                          cv2.GaussianBlur(img, (3,3), 0)]),\n",
    "    np.vstack([cv2.GaussianBlur(img, (5,5), 0), cv2.GaussianBlur(img, (7,7), 0)]),\n",
    "    np.vstack([cv2.GaussianBlur(img, (9,9), 0), cv2.GaussianBlur(img, (11,11), 0)]),\n",
    "])\n",
    "\n",
    "# Mostrar as imagens usando matplotlib\n",
    "plt.figure(figsize=(12, 8))\n",
    "plt.imshow(suavizarGaussiana)\n",
    "plt.title('Imagens suavizadas por filtro Gaussiano')\n",
    "plt.axis('off')  # Não mostrar os eixos\n",
    "plt.show()\n"
   ]
  },
  {
   "cell_type": "code",
   "execution_count": null,
   "metadata": {},
   "outputs": [],
   "source": [
    " # filtro bilateral(mais lento que os anteriores)\n",
    "# preserva as bordas e garante a remoção do ruído\n",
    "# bilateralFilter(imagem, tamanho janela,espaço de cor, espaço coordenado, borda)\n",
    "suavizarBilateral = np.hstack([\n",
    "    np.vstack([img,               cv2.bilateralFilter(img, 3, 21, 21)]),\n",
    "    np.vstack([cv2.bilateralFilter(img, 5, 35, 35), cv2.bilateralFilter(img, 7, 49, 49)]),\n",
    "    np.vstack([cv2.bilateralFilter(img, 9, 63, 63),  cv2.bilateralFilter(img, 11, 77, 77)]),\n",
    "])\n",
    "\n",
    "# Mostrar as imagens usando matplotlib\n",
    "plt.figure(figsize=(12, 8))\n",
    "plt.imshow(suavizarBilateral)\n",
    "plt.title('Imagens suavizadas pelo filtro bidirecional')\n",
    "plt.axis('off')  # Não mostrar os eixos\n",
    "plt.show()"
   ]
  },
  {
   "cell_type": "code",
   "execution_count": 21,
   "metadata": {},
   "outputs": [],
   "source": [
    "# Sim, o código que você escreveu aborda bem a questão de análise e aplicação de filtros no\n",
    "#  domínio do espaço para remover ou reduzir o ruído presente nas imagens. Aqui está um resumo \n",
    "# de como o código e suas explicações estão alinhados com a questão:\n",
    "\n",
    "# 1. **Filtros de Média**:\n",
    "#    - **Código**: Aplica o filtro de média com diferentes tamanhos de janela.\n",
    "#    - **Explicação**: O filtro de média suaviza a imagem substituindo cada pixel \n",
    "# pelo valor médio dos pixels ao seu redor. É útil para reduzir o ruído, mas pode borrar a imagem e suavizar bordas.\n",
    "\n",
    "# 2. **Filtros de Mediana**:\n",
    "#    - **Código**: Aplica o filtro de mediana com diferentes tamanhos de janela.\n",
    "#    - **Explicação**: O filtro de mediana substitui cada pixel pelo valor mediano\n",
    "#  dos pixels ao seu redor. Ele é eficaz na redução de ruído salt-and-pepper e preserva melhor as\n",
    "#  bordas comparado ao filtro de média.\n",
    "\n",
    "# 3. **Filtro Gaussiano**:\n",
    "#    - **Código**: Aplica o filtro gaussiano com diferentes tamanhos de janela.\n",
    "#    - **Explicação**: O filtro gaussiano aplica um desfoque mais suave e natural\n",
    "#  comparado ao filtro de média. Reduz o ruído e preserva a suavidade da imagem, mas pode causar borrão.\n",
    "\n",
    "# 4. **Filtro Bilateral**:\n",
    "#    - **Código**: Aplica o filtro bilateral com diferentes tamanhos de janela.\n",
    "#    - **Explicação**: O filtro bilateral é mais avançado e reduz o ruído enquanto \n",
    "# preserva as bordas. Ele é mais lento, mas mantém a qualidade da imagem melhor do que os filtros anteriores.\n",
    "\n",
    "# ### Comparação e Explicação dos Resultados\n",
    "# - **Média**: Adequado para redução de ruído, mas pode borrar as bordas.\n",
    "# - **Mediana**: Melhor para ruído salt-and-pepper e preserva bordas.\n",
    "# - **Gaussiana**: Suaviza a imagem de forma natural, mas pode borrar.\n",
    "# - **Bilateral**: Preserva bordas e reduz ruído de forma eficaz, mas é mais lento.\n",
    "\n",
    "# Se o objetivo é comparar a eficácia desses filtros na remoção de ruído e avaliar a\n",
    "#  preservação das bordas, o código e a abordagem que você descreveu são apropriados e devem fornece\n",
    "# r uma boa visão sobre como cada filtro afeta a imagem."
   ]
  }
 ],
 "metadata": {
  "kernelspec": {
   "display_name": ".venv",
   "language": "python",
   "name": "python3"
  },
  "language_info": {
   "codemirror_mode": {
    "name": "ipython",
    "version": 3
   },
   "file_extension": ".py",
   "mimetype": "text/x-python",
   "name": "python",
   "nbconvert_exporter": "python",
   "pygments_lexer": "ipython3",
   "version": "3.12.3"
  }
 },
 "nbformat": 4,
 "nbformat_minor": 2
}
